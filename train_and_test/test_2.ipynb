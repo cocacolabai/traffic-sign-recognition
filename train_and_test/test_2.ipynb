{
 "cells": [
  {
   "cell_type": "code",
   "execution_count": 1,
   "metadata": {},
   "outputs": [],
   "source": [
    "import matplotlib.pyplot as plt\n",
    "import numpy as np\n",
    "import tensorflow as tf\n",
    "\n",
    "from tensorflow import keras\n",
    "from tensorflow.keras import layers\n",
    "from tensorflow.keras.models import Sequential\n",
    "\n",
    "import sourses.paths as path\n",
    "import sourses.class_id as class_id\n",
    "import sourses.prepare_data as prepare_data"
   ]
  },
  {
   "cell_type": "markdown",
   "metadata": {},
   "source": [
    "## Global parameters"
   ]
  },
  {
   "cell_type": "code",
   "execution_count": 2,
   "metadata": {},
   "outputs": [],
   "source": [
    "train_path = path.train_path\n",
    "test_path = path.test_class_id_path\n",
    "\n",
    "batch_size = prepare_data.batch_size\n",
    "img_height = prepare_data.img_height\n",
    "img_width = prepare_data.img_width\n",
    "\n",
    "epochs = 35"
   ]
  },
  {
   "cell_type": "markdown",
   "metadata": {},
   "source": [
    "## Loading data from local\n",
    "- The train data is split into training data and valitation data"
   ]
  },
  {
   "cell_type": "code",
   "execution_count": 3,
   "metadata": {},
   "outputs": [
    {
     "name": "stdout",
     "output_type": "stream",
     "text": [
      "Found 39209 files belonging to 43 classes.\n",
      "Using 31368 files for training.\n"
     ]
    }
   ],
   "source": [
    "train_ds = tf.keras.preprocessing.image_dataset_from_directory(\n",
    "    train_path,\n",
    "    validation_split=0.2,\n",
    "    subset=\"training\",\n",
    "    seed=123\n",
    ")"
   ]
  },
  {
   "cell_type": "code",
   "execution_count": 4,
   "metadata": {},
   "outputs": [
    {
     "name": "stdout",
     "output_type": "stream",
     "text": [
      "Found 39209 files belonging to 43 classes.\n",
      "Using 7841 files for validation.\n"
     ]
    }
   ],
   "source": [
    "val_ds = tf.keras.preprocessing.image_dataset_from_directory(\n",
    "    train_path,\n",
    "    validation_split=0.2,\n",
    "    subset=\"validation\",\n",
    "    seed=123\n",
    ")"
   ]
  },
  {
   "cell_type": "code",
   "execution_count": 5,
   "metadata": {},
   "outputs": [
    {
     "name": "stdout",
     "output_type": "stream",
     "text": [
      "Found 12630 files belonging to 43 classes.\n"
     ]
    }
   ],
   "source": [
    "test_ds = tf.keras.preprocessing.image_dataset_from_directory(\n",
    "    test_path,\n",
    "    shuffle=False\n",
    ")"
   ]
  },
  {
   "cell_type": "code",
   "execution_count": 6,
   "metadata": {},
   "outputs": [],
   "source": [
    "class_names = train_ds.class_names\n",
    "for i,j in enumerate(class_names):\n",
    "    class_names[i] = class_id.class_id[j]\n",
    "    \n",
    "num_classes = len(class_names)"
   ]
  },
  {
   "cell_type": "markdown",
   "metadata": {},
   "source": [
    "## Data standardization"
   ]
  },
  {
   "cell_type": "code",
   "execution_count": 7,
   "metadata": {},
   "outputs": [],
   "source": [
    "IMG_SIZE = 180\n",
    "\n",
    "normalization_layer = tf.keras.Sequential([\n",
    "    layers.experimental.preprocessing.Resizing(IMG_SIZE, IMG_SIZE),\n",
    "    layers.experimental.preprocessing.Rescaling(1./255)\n",
    "])\n",
    "\n",
    "train_ds = train_ds.map(lambda x, y: (normalization_layer(x), y))\n",
    "val_ds = val_ds.map(lambda x, y: (normalization_layer(x), y))\n",
    "test_ds = test_ds.map(lambda x, y: (normalization_layer(x), y))"
   ]
  },
  {
   "cell_type": "markdown",
   "metadata": {},
   "source": [
    "## Data augmentation"
   ]
  },
  {
   "cell_type": "code",
   "execution_count": 8,
   "metadata": {},
   "outputs": [],
   "source": [
    "data_augmentation = keras.Sequential([\n",
    "    layers.experimental.preprocessing.RandomFlip(\"horizontal\", input_shape=(img_height, img_width,3)),\n",
    "    layers.experimental.preprocessing.RandomRotation(0.1),\n",
    "    layers.experimental.preprocessing.RandomZoom(0.1)\n",
    "  ]\n",
    ")\n",
    "\n",
    "train_ds = train_ds.map(lambda x, y: (data_augmentation(x, training=True), y))\n",
    "val_ds = val_ds.map(lambda x, y: (data_augmentation(x, training=True), y))\n",
    "test_ds = test_ds.map(lambda x, y: (data_augmentation(x, training=True), y))"
   ]
  },
  {
   "cell_type": "markdown",
   "metadata": {},
   "source": [
    "## Building the model"
   ]
  },
  {
   "cell_type": "code",
   "execution_count": 9,
   "metadata": {},
   "outputs": [
    {
     "name": "stdout",
     "output_type": "stream",
     "text": [
      "Model: \"sequential_4\"\n",
      "_________________________________________________________________\n",
      "Layer (type)                 Output Shape              Param #   \n",
      "=================================================================\n",
      "rescaling_2 (Rescaling)      (None, 180, 180, 3)       0         \n",
      "_________________________________________________________________\n",
      "conv2d (Conv2D)              (None, 180, 180, 16)      448       \n",
      "_________________________________________________________________\n",
      "max_pooling2d (MaxPooling2D) (None, 90, 90, 16)        0         \n",
      "_________________________________________________________________\n",
      "conv2d_1 (Conv2D)            (None, 90, 90, 32)        4640      \n",
      "_________________________________________________________________\n",
      "max_pooling2d_1 (MaxPooling2 (None, 45, 45, 32)        0         \n",
      "_________________________________________________________________\n",
      "conv2d_2 (Conv2D)            (None, 45, 45, 64)        18496     \n",
      "_________________________________________________________________\n",
      "max_pooling2d_2 (MaxPooling2 (None, 22, 22, 64)        0         \n",
      "_________________________________________________________________\n",
      "dropout (Dropout)            (None, 22, 22, 64)        0         \n",
      "_________________________________________________________________\n",
      "flatten (Flatten)            (None, 30976)             0         \n",
      "_________________________________________________________________\n",
      "dense (Dense)                (None, 128)               3965056   \n",
      "_________________________________________________________________\n",
      "dense_1 (Dense)              (None, 43)                5547      \n",
      "=================================================================\n",
      "Total params: 3,994,187\n",
      "Trainable params: 3,994,187\n",
      "Non-trainable params: 0\n",
      "_________________________________________________________________\n"
     ]
    }
   ],
   "source": [
    "model = Sequential([\n",
    "    layers.experimental.preprocessing.Rescaling(1./255, input_shape=(img_height, img_width, 3)),\n",
    "    layers.Conv2D(16, 3, padding='same', activation='relu'),\n",
    "    layers.MaxPooling2D(),\n",
    "    layers.Conv2D(32, 3, padding='same', activation='relu'),\n",
    "    layers.MaxPooling2D(),\n",
    "    layers.Conv2D(64, 3, padding='same', activation='relu'),\n",
    "    layers.MaxPooling2D(),\n",
    "    layers.Dropout(0.2),\n",
    "    layers.Flatten(),\n",
    "    layers.Dense(128, activation='relu'),\n",
    "    layers.Dense(num_classes)\n",
    "])\n",
    "\n",
    "model.compile(optimizer='adam',\n",
    "              loss=tf.keras.losses.SparseCategoricalCrossentropy(from_logits=True),\n",
    "              metrics=['accuracy'])\n",
    "\n",
    "model.summary()"
   ]
  },
  {
   "cell_type": "markdown",
   "metadata": {},
   "source": [
    "## Training the model"
   ]
  },
  {
   "cell_type": "code",
   "execution_count": 10,
   "metadata": {},
   "outputs": [
    {
     "name": "stdout",
     "output_type": "stream",
     "text": [
      "Epoch 1/35\n",
      "981/981 [==============================] - 458s 467ms/step - loss: 3.4238 - accuracy: 0.0818 - val_loss: 2.9596 - val_accuracy: 0.1959\n",
      "Epoch 2/35\n",
      "981/981 [==============================] - 453s 462ms/step - loss: 2.1446 - accuracy: 0.3807 - val_loss: 1.4861 - val_accuracy: 0.5432\n",
      "Epoch 3/35\n",
      "981/981 [==============================] - 428s 436ms/step - loss: 1.3281 - accuracy: 0.5889 - val_loss: 1.1495 - val_accuracy: 0.6512\n",
      "Epoch 4/35\n",
      "981/981 [==============================] - 460s 469ms/step - loss: 1.0659 - accuracy: 0.6692 - val_loss: 1.0038 - val_accuracy: 0.6930\n",
      "Epoch 5/35\n",
      "981/981 [==============================] - 458s 467ms/step - loss: 0.8952 - accuracy: 0.7248 - val_loss: 0.7958 - val_accuracy: 0.7618\n",
      "Epoch 6/35\n",
      "981/981 [==============================] - 463s 472ms/step - loss: 0.7788 - accuracy: 0.7549 - val_loss: 0.6806 - val_accuracy: 0.7958\n",
      "Epoch 7/35\n",
      "981/981 [==============================] - 467s 476ms/step - loss: 0.7055 - accuracy: 0.7779 - val_loss: 0.6670 - val_accuracy: 0.7926\n",
      "Epoch 8/35\n",
      "981/981 [==============================] - 444s 453ms/step - loss: 0.6415 - accuracy: 0.7953 - val_loss: 0.5716 - val_accuracy: 0.8282\n",
      "Epoch 9/35\n",
      "981/981 [==============================] - 457s 466ms/step - loss: 0.5893 - accuracy: 0.8166 - val_loss: 0.5399 - val_accuracy: 0.8294\n",
      "Epoch 10/35\n",
      "981/981 [==============================] - 458s 467ms/step - loss: 0.5611 - accuracy: 0.8245 - val_loss: 0.4949 - val_accuracy: 0.8521\n",
      "Epoch 11/35\n",
      "981/981 [==============================] - 444s 453ms/step - loss: 0.5139 - accuracy: 0.8377 - val_loss: 0.4643 - val_accuracy: 0.8609\n",
      "Epoch 12/35\n",
      "981/981 [==============================] - 466s 475ms/step - loss: 0.4983 - accuracy: 0.8430 - val_loss: 0.4748 - val_accuracy: 0.8532\n",
      "Epoch 13/35\n",
      "981/981 [==============================] - 471s 480ms/step - loss: 0.4621 - accuracy: 0.8546 - val_loss: 0.4216 - val_accuracy: 0.8802\n",
      "Epoch 14/35\n",
      "981/981 [==============================] - 461s 470ms/step - loss: 0.4513 - accuracy: 0.8597 - val_loss: 0.3981 - val_accuracy: 0.8825\n",
      "Epoch 15/35\n",
      "981/981 [==============================] - 464s 473ms/step - loss: 0.4320 - accuracy: 0.8632 - val_loss: 0.4113 - val_accuracy: 0.8773\n",
      "Epoch 16/35\n",
      "981/981 [==============================] - 457s 466ms/step - loss: 0.4169 - accuracy: 0.8673 - val_loss: 0.3957 - val_accuracy: 0.8783\n",
      "Epoch 17/35\n",
      "981/981 [==============================] - 468s 477ms/step - loss: 0.4016 - accuracy: 0.8735 - val_loss: 0.3607 - val_accuracy: 0.8875\n",
      "Epoch 18/35\n",
      "981/981 [==============================] - 477s 486ms/step - loss: 0.3865 - accuracy: 0.8756 - val_loss: 0.3469 - val_accuracy: 0.8938\n",
      "Epoch 19/35\n",
      "981/981 [==============================] - 470s 479ms/step - loss: 0.3796 - accuracy: 0.8805 - val_loss: 0.3444 - val_accuracy: 0.8975\n",
      "Epoch 20/35\n",
      "981/981 [==============================] - 458s 467ms/step - loss: 0.3668 - accuracy: 0.8857 - val_loss: 0.3426 - val_accuracy: 0.8976\n",
      "Epoch 21/35\n",
      "981/981 [==============================] - 473s 483ms/step - loss: 0.3588 - accuracy: 0.8871 - val_loss: 0.3188 - val_accuracy: 0.9089\n",
      "Epoch 22/35\n",
      "981/981 [==============================] - 483s 493ms/step - loss: 0.3513 - accuracy: 0.8875 - val_loss: 0.3438 - val_accuracy: 0.8968\n",
      "Epoch 23/35\n",
      "981/981 [==============================] - 462s 470ms/step - loss: 0.3383 - accuracy: 0.8931 - val_loss: 0.3859 - val_accuracy: 0.8852\n",
      "Epoch 24/35\n",
      "981/981 [==============================] - 469s 478ms/step - loss: 0.3315 - accuracy: 0.8966 - val_loss: 0.3018 - val_accuracy: 0.9116\n",
      "Epoch 25/35\n",
      "981/981 [==============================] - 472s 481ms/step - loss: 0.3209 - accuracy: 0.8997 - val_loss: 0.2821 - val_accuracy: 0.9152\n",
      "Epoch 26/35\n",
      "981/981 [==============================] - 465s 474ms/step - loss: 0.3154 - accuracy: 0.8987 - val_loss: 0.2849 - val_accuracy: 0.9183\n",
      "Epoch 27/35\n",
      "981/981 [==============================] - 435s 443ms/step - loss: 0.3137 - accuracy: 0.9015 - val_loss: 0.3039 - val_accuracy: 0.9096\n",
      "Epoch 28/35\n",
      "981/981 [==============================] - 421s 429ms/step - loss: 0.2957 - accuracy: 0.9039 - val_loss: 0.3008 - val_accuracy: 0.9109\n",
      "Epoch 29/35\n",
      "981/981 [==============================] - 872s 889ms/step - loss: 0.2973 - accuracy: 0.9082 - val_loss: 0.2586 - val_accuracy: 0.9227\n",
      "Epoch 30/35\n",
      "981/981 [==============================] - 458s 466ms/step - loss: 0.2915 - accuracy: 0.9079 - val_loss: 0.2805 - val_accuracy: 0.9163\n",
      "Epoch 31/35\n",
      "981/981 [==============================] - 466s 475ms/step - loss: 0.2857 - accuracy: 0.9095 - val_loss: 0.2837 - val_accuracy: 0.9148\n",
      "Epoch 32/35\n",
      "981/981 [==============================] - 442s 451ms/step - loss: 0.2817 - accuracy: 0.9111 - val_loss: 0.2630 - val_accuracy: 0.9221\n",
      "Epoch 33/35\n",
      "981/981 [==============================] - 546s 557ms/step - loss: 0.2787 - accuracy: 0.9122 - val_loss: 0.2624 - val_accuracy: 0.9235\n",
      "Epoch 34/35\n",
      "981/981 [==============================] - 444s 452ms/step - loss: 0.2696 - accuracy: 0.9143 - val_loss: 0.2441 - val_accuracy: 0.9268\n",
      "Epoch 35/35\n",
      "981/981 [==============================] - 2423s 2s/step - loss: 0.2681 - accuracy: 0.9132 - val_loss: 0.2424 - val_accuracy: 0.9295\n"
     ]
    }
   ],
   "source": [
    "training = model.fit(\n",
    "    train_ds,\n",
    "    validation_data=val_ds,\n",
    "    epochs=epochs\n",
    ")"
   ]
  },
  {
   "cell_type": "markdown",
   "metadata": {},
   "source": [
    "## Evaluating its performance"
   ]
  },
  {
   "cell_type": "code",
   "execution_count": 11,
   "metadata": {},
   "outputs": [
    {
     "data": {
      "image/png": "[encoded data removed]",
      "text/plain": [
       "<Figure size 864x720 with 2 Axes>"
      ]
     },
     "metadata": {},
     "output_type": "display_data"
    }
   ],
   "source": [
    "plt.style.use('seaborn')\n",
    "\n",
    "model_name = 'model_3'\n",
    "\n",
    "acc = training.history['accuracy']\n",
    "val_acc = training.history['val_accuracy']\n",
    "\n",
    "loss = training.history['loss']\n",
    "val_loss = training.history['val_loss']\n",
    "\n",
    "epochs_range = range(epochs)\n",
    "\n",
    "plt.figure(figsize=(12, 10))\n",
    "plt.subplot(1, 2, 1)\n",
    "plt.plot(epochs_range, acc, label='Training Accuracy')\n",
    "plt.plot(epochs_range, val_acc, label='Validation Accuracy')\n",
    "plt.legend(loc='lower right')\n",
    "plt.title('Training and Validation Accuracy')\n",
    "\n",
    "plt.subplot(1, 2, 2)\n",
    "plt.plot(epochs_range, loss, label='Training Loss')\n",
    "plt.plot(epochs_range, val_loss, label='Validation Loss')\n",
    "plt.legend(loc='upper right')\n",
    "plt.title('Training and Validation Loss')\n",
    "\n",
    "plt.savefig(f'../outputs/charts/{model_name}.png')\n",
    "plt.show()"
   ]
  },
  {
   "cell_type": "markdown",
   "metadata": {},
   "source": [
    "## Model evaluation\n",
    "Things to do:\n",
    "- Evaluate the model with the evaluate method of tensorflow, whatch example on tensorflow.org\n",
    "- Try to compare real labels (y_test) with prediction labels (y_pred)"
   ]
  },
  {
   "cell_type": "code",
   "execution_count": 21,
   "metadata": {},
   "outputs": [
    {
     "name": "stdout",
     "output_type": "stream",
     "text": [
      "Found 12630 files belonging to 43 classes.\n"
     ]
    }
   ],
   "source": [
    "img = tf.keras.preprocessing.image_dataset_from_directory(\n",
    "    test_path,\n",
    "    shuffle=False,\n",
    "    image_size=(img_height, img_width)\n",
    ")"
   ]
  },
  {
   "cell_type": "code",
   "execution_count": 22,
   "metadata": {
    "collapsed": true
   },
   "outputs": [
    {
     "ename": "AttributeError",
     "evalue": "'str' object has no attribute 'predict'",
     "output_type": "error",
     "traceback": [
      "\u001b[0;31m---------------------------------------------------------------------------\u001b[0m",
      "\u001b[0;31mAttributeError\u001b[0m                            Traceback (most recent call last)",
      "\u001b[0;32m<ipython-input-22-bbd386ebe04d>\u001b[0m in \u001b[0;36m<module>\u001b[0;34m\u001b[0m\n\u001b[0;32m----> 1\u001b[0;31m \u001b[0mpredictions\u001b[0m \u001b[0;34m=\u001b[0m \u001b[0mmodel\u001b[0m\u001b[0;34m.\u001b[0m\u001b[0mpredict\u001b[0m\u001b[0;34m(\u001b[0m\u001b[0mimg\u001b[0m\u001b[0;34m,\u001b[0m \u001b[0mverbose\u001b[0m\u001b[0;34m=\u001b[0m\u001b[0;36m1\u001b[0m\u001b[0;34m)\u001b[0m\u001b[0;34m\u001b[0m\u001b[0;34m\u001b[0m\u001b[0m\n\u001b[0m\u001b[1;32m      2\u001b[0m \u001b[0mscore\u001b[0m \u001b[0;34m=\u001b[0m \u001b[0mtf\u001b[0m\u001b[0;34m.\u001b[0m\u001b[0mnn\u001b[0m\u001b[0;34m.\u001b[0m\u001b[0msoftmax\u001b[0m\u001b[0;34m(\u001b[0m\u001b[0mpredictions\u001b[0m\u001b[0;34m[\u001b[0m\u001b[0;36m0\u001b[0m\u001b[0;34m]\u001b[0m\u001b[0;34m)\u001b[0m\u001b[0;34m\u001b[0m\u001b[0;34m\u001b[0m\u001b[0m\n\u001b[1;32m      3\u001b[0m print(\n\u001b[1;32m      4\u001b[0m     \u001b[0;34m\"This image most likely belongs to {} with a {:.2f} percent confidence.\"\u001b[0m\u001b[0;34m\u001b[0m\u001b[0;34m\u001b[0m\u001b[0m\n\u001b[1;32m      5\u001b[0m     \u001b[0;34m.\u001b[0m\u001b[0mformat\u001b[0m\u001b[0;34m(\u001b[0m\u001b[0mclass_names\u001b[0m\u001b[0;34m[\u001b[0m\u001b[0mnp\u001b[0m\u001b[0;34m.\u001b[0m\u001b[0margmax\u001b[0m\u001b[0;34m(\u001b[0m\u001b[0mscore\u001b[0m\u001b[0;34m)\u001b[0m\u001b[0;34m]\u001b[0m\u001b[0;34m,\u001b[0m \u001b[0;36m100\u001b[0m \u001b[0;34m*\u001b[0m \u001b[0mnp\u001b[0m\u001b[0;34m.\u001b[0m\u001b[0mmax\u001b[0m\u001b[0;34m(\u001b[0m\u001b[0mscore\u001b[0m\u001b[0;34m)\u001b[0m\u001b[0;34m)\u001b[0m\u001b[0;34m\u001b[0m\u001b[0;34m\u001b[0m\u001b[0m\n",
      "\u001b[0;31mAttributeError\u001b[0m: 'str' object has no attribute 'predict'"
     ]
    }
   ],
   "source": [
    "predictions = training.predict(img, verbose=1)\n",
    "score = tf.nn.softmax(predictions[0])\n",
    "print(\n",
    "    \"This image most likely belongs to {} with a {:.2f} percent confidence.\"\n",
    "    .format(class_names[np.argmax(score)], 100 * np.max(score))\n",
    ")"
   ]
  },
  {
   "cell_type": "code",
   "execution_count": null,
   "metadata": {},
   "outputs": [],
   "source": []
  },
  {
   "cell_type": "code",
   "execution_count": null,
   "metadata": {},
   "outputs": [],
   "source": []
  },
  {
   "cell_type": "markdown",
   "metadata": {},
   "source": [
    "## Saving the model"
   ]
  },
  {
   "cell_type": "code",
   "execution_count": 12,
   "metadata": {},
   "outputs": [
    {
     "name": "stdout",
     "output_type": "stream",
     "text": [
      "WARNING:tensorflow:From /Users/gerardovitaleerrico/opt/anaconda3/envs/tf/lib/python3.7/site-packages/tensorflow/python/training/tracking/tracking.py:111: Model.state_updates (from tensorflow.python.keras.engine.training) is deprecated and will be removed in a future version.\n",
      "Instructions for updating:\n",
      "This property should not be used in TensorFlow 2.0, as updates are applied automatically.\n",
      "WARNING:tensorflow:From /Users/gerardovitaleerrico/opt/anaconda3/envs/tf/lib/python3.7/site-packages/tensorflow/python/training/tracking/tracking.py:111: Layer.updates (from tensorflow.python.keras.engine.base_layer) is deprecated and will be removed in a future version.\n",
      "Instructions for updating:\n",
      "This property should not be used in TensorFlow 2.0, as updates are applied automatically.\n",
      "INFO:tensorflow:Assets written to: ../outputs/models/model_3/assets\n"
     ]
    }
   ],
   "source": [
    "# Save the entire model as a SavedModel.\n",
    "model.save(f'../outputs/models/{model_name}')\n",
    "\n",
    "# Save the entire model to a HDF5 file.\n",
    "# The '.h5' extension indicates that the model should be saved to HDF5.\n",
    "model.save(f'../outputs/models/{model_name}.h5')"
   ]
  },
  {
   "cell_type": "code",
   "execution_count": null,
   "metadata": {},
   "outputs": [],
   "source": []
  }
 ],
 "metadata": {
  "kernelspec": {
   "display_name": "Python 3",
   "language": "python",
   "name": "python3"
  },
  "language_info": {
   "codemirror_mode": {
    "name": "ipython",
    "version": 3
   },
   "file_extension": ".py",
   "mimetype": "text/x-python",
   "name": "python",
   "nbconvert_exporter": "python",
   "pygments_lexer": "ipython3",
   "version": "3.7.9"
  }
 },
 "nbformat": 4,
 "nbformat_minor": 4
}
